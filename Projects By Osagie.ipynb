{
 "cells": [
  {
   "cell_type": "markdown",
   "id": "b6f2aed7",
   "metadata": {},
   "source": [
    "The SpellChecker module in Python is one of the handiest tools that can be used to correct misspelt words in a piece of text. If you have never used this Python module before, you can easily install it in your Python virtual environment by running the command mentioned below in your command prompt or terminal:"
   ]
  },
  {
   "cell_type": "code",
   "execution_count": 3,
   "id": "d62f72f4",
   "metadata": {},
   "outputs": [
    {
     "name": "stdout",
     "output_type": "stream",
     "text": [
      "Collecting pyspellchecker\n",
      "  Downloading pyspellchecker-0.7.0-py3-none-any.whl (2.5 MB)\n",
      "Installing collected packages: pyspellchecker\n",
      "Successfully installed pyspellchecker-0.7.0\n",
      "Note: you may need to restart the kernel to use updated packages.\n"
     ]
    }
   ],
   "source": [
    "pip install pyspellchecker"
   ]
  },
  {
   "cell_type": "code",
   "execution_count": 4,
   "id": "85fcec4f",
   "metadata": {},
   "outputs": [
    {
     "name": "stdout",
     "output_type": "stream",
     "text": [
      "Enter a Word : Technlogi\n",
      "Correct Spelling is  technology\n"
     ]
    }
   ],
   "source": [
    "from spellchecker import SpellChecker\n",
    "corrector = SpellChecker()\n",
    "\n",
    "word = input(\"Enter a Word : \")\n",
    "if word in corrector:\n",
    "    print(\"Correct\")\n",
    "else:\n",
    "    correct_word = corrector.correction(word)\n",
    "    print(\"Correct Spelling is \", correct_word)"
   ]
  },
  {
   "cell_type": "code",
   "execution_count": 6,
   "id": "8146a373",
   "metadata": {},
   "outputs": [
    {
     "name": "stdout",
     "output_type": "stream",
     "text": [
      "Enter a Word : Analytis\n",
      "Correct Spelling is  analysis\n"
     ]
    }
   ],
   "source": [
    "word = input(\"Enter a Word : \")\n",
    "if word in corrector:\n",
    "    print(\"Correct\")\n",
    "else:\n",
    "    correct_word = corrector.correction(word)\n",
    "    print(\"Correct Spelling is \", correct_word)"
   ]
  },
  {
   "cell_type": "code",
   "execution_count": 7,
   "id": "b92bba69",
   "metadata": {},
   "outputs": [
    {
     "name": "stdout",
     "output_type": "stream",
     "text": [
      "Enter a Word : Jaent\n",
      "Correct Spelling is  janet\n"
     ]
    }
   ],
   "source": [
    "word = input(\"Enter a Word : \")\n",
    "if word in corrector:\n",
    "    print(\"Correct\")\n",
    "else:\n",
    "    correct_word = corrector.correction(word)\n",
    "    print(\"Correct Spelling is \", correct_word)"
   ]
  },
  {
   "cell_type": "code",
   "execution_count": null,
   "id": "02462f93",
   "metadata": {},
   "outputs": [],
   "source": []
  }
 ],
 "metadata": {
  "kernelspec": {
   "display_name": "Python 3",
   "language": "python",
   "name": "python3"
  },
  "language_info": {
   "codemirror_mode": {
    "name": "ipython",
    "version": 3
   },
   "file_extension": ".py",
   "mimetype": "text/x-python",
   "name": "python",
   "nbconvert_exporter": "python",
   "pygments_lexer": "ipython3",
   "version": "3.8.8"
  }
 },
 "nbformat": 4,
 "nbformat_minor": 5
}
